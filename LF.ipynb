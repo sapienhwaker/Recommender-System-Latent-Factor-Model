{
  "nbformat": 4,
  "nbformat_minor": 0,
  "metadata": {
    "colab": {
      "name": "LF.ipynb",
      "provenance": [],
      "collapsed_sections": [],
      "toc_visible": true
    },
    "kernelspec": {
      "name": "python3",
      "display_name": "Python 3"
    }
  },
  "cells": [
    {
      "cell_type": "markdown",
      "metadata": {
        "id": "NUm5Xt8kPADt"
      },
      "source": [
        "#Recommender Systems: Latent Factor Model\n"
      ]
    },
    {
      "cell_type": "code",
      "metadata": {
        "id": "TbHXCbTGTV2V"
      },
      "source": [
        "#importing all relevent packages\n",
        "import time\n",
        "import pandas as pd\n",
        "import numpy as np\n",
        "import math\n",
        "import matplotlib.pyplot as plt "
      ],
      "execution_count": null,
      "outputs": []
    },
    {
      "cell_type": "code",
      "metadata": {
        "id": "z0-gFvO-szjv"
      },
      "source": [
        "#reading input files and storing it to test and train data frames\n",
        "df_test = pd.read_csv('/content/drive/My Drive/test_dataset.csv')\n",
        "df_train = pd.read_csv('/content/drive/My Drive/training_dataset.csv')"
      ],
      "execution_count": null,
      "outputs": []
    },
    {
      "cell_type": "code",
      "metadata": {
        "id": "TiGubeODbdOf",
        "colab": {
          "base_uri": "https://localhost:8080/"
        },
        "outputId": "663facff-4759-4d50-f06a-daa4347a1506"
      },
      "source": [
        "from google.colab import drive\n",
        "drive.mount('/content/drive')"
      ],
      "execution_count": null,
      "outputs": [
        {
          "output_type": "stream",
          "text": [
            "Drive already mounted at /content/drive; to attempt to forcibly remount, call drive.mount(\"/content/drive\", force_remount=True).\n"
          ],
          "name": "stdout"
        }
      ]
    },
    {
      "cell_type": "code",
      "metadata": {
        "id": "L0SuCqcauWRh"
      },
      "source": [
        "#converting relevent columns of the dataframe to the np array\n",
        "np_test_ratings = df_test[['user_id', 'item_id', 'rating']].to_numpy()\n",
        "np_train_ratings = df_train[['user_id', 'item_id', 'rating']].to_numpy()"
      ],
      "execution_count": null,
      "outputs": []
    },
    {
      "cell_type": "code",
      "metadata": {
        "id": "q9S_PDsS3CHG"
      },
      "source": [
        "#Getting max values from train and test data to identify maximum number of users and maximum number of movies\n",
        "np_test_max = np_test_ratings.max(axis=0)\n",
        "np_train_max = np_train_ratings.max(axis=0)"
      ],
      "execution_count": null,
      "outputs": []
    },
    {
      "cell_type": "code",
      "metadata": {
        "id": "tyfWXd5Y37C_",
        "colab": {
          "base_uri": "https://localhost:8080/"
        },
        "outputId": "14a8963b-5860-418f-ffbd-00919d0574a9"
      },
      "source": [
        "users = max(np_train_max[0],np_test_max[0])\n",
        "print(\"Total number of users: \" + str(users))"
      ],
      "execution_count": null,
      "outputs": [
        {
          "output_type": "stream",
          "text": [
            "Total number of users: 943\n"
          ],
          "name": "stdout"
        }
      ]
    },
    {
      "cell_type": "code",
      "metadata": {
        "id": "DH5lKVWp4Ejw",
        "colab": {
          "base_uri": "https://localhost:8080/"
        },
        "outputId": "a7ab1134-8b5b-4013-80c2-a05c9e0af940"
      },
      "source": [
        "items = max(np_train_max[1],np_test_max[1])\n",
        "print(\"Total number of movies: \" + str(items))"
      ],
      "execution_count": null,
      "outputs": [
        {
          "output_type": "stream",
          "text": [
            "Total number of movies: 1682\n"
          ],
          "name": "stdout"
        }
      ]
    },
    {
      "cell_type": "code",
      "metadata": {
        "id": "S4AYBAyC4uGs",
        "colab": {
          "base_uri": "https://localhost:8080/"
        },
        "outputId": "40a499f0-2b4f-430b-ff70-742b7e81318f"
      },
      "source": [
        "avg_rating = df_train[\"rating\"].mean()\n",
        "print(\"Average rating of the training dataset: \" + str(avg_rating))"
      ],
      "execution_count": null,
      "outputs": [
        {
          "output_type": "stream",
          "text": [
            "Average rating of the training dataset: 3.535\n"
          ],
          "name": "stdout"
        }
      ]
    },
    {
      "cell_type": "code",
      "metadata": {
        "id": "kRDrzhtwvMm-"
      },
      "source": [
        "#Predicted value depending avg rating given by any user to all the movies rated by him\n",
        "#average rating got by any movie, average rating from the training data and the guess rating from P and Q matrix\n",
        "def predict(user_id, item_id) -> float:\n",
        "  return avg_rating + b_i[item_id] + b_u[user_id] + sum(Q[:, item_id] * P[:, user_id])"
      ],
      "execution_count": null,
      "outputs": []
    },
    {
      "cell_type": "code",
      "metadata": {
        "id": "pXSj8m4l_a2Y"
      },
      "source": [
        "#function to return the rmse error it gets the differece of predicted and actual rating and produces the rms value\n",
        "#adding all rmse values to a list to plot those values against each iteration\n",
        "def error(data):\n",
        "  sq_err = 0\n",
        "  for user_id, item_id, rating in data:\n",
        "      predicted_rating = predict(user_id, item_id)\n",
        "      d = predicted_rating - rating\n",
        "      sq_err += d**2\n",
        "  rmse = np.sqrt(sq_err / len(data))\n",
        "  return rmse"
      ],
      "execution_count": null,
      "outputs": []
    },
    {
      "cell_type": "code",
      "metadata": {
        "id": "aIzECY4r_bBP"
      },
      "source": [
        "#this function adjust the P and Q matricies values which we have stocastically guessed and it takes those values to the closer to the rating values\n",
        "#since we deal with SVD of the utitlity matrix product of Q and P transpose will give us the actual predicted rating here we use lambda as regularization parameter\n",
        "#which adds complexity to the function. Lambda can be any non-negative value but it is advised to have this values around 1\n",
        "#gamma is the step increment or decrement parameter. Choosing appropriate gamma values is critical to hit the precision\n",
        "def step(user_id, item_id, actual_rating, gamma, lambda_):        \n",
        "  err_ui = actual_rating - predict(user_id, item_id)\n",
        "  b_i[item_id] += gamma * (err_ui - lambda_ * b_u[user_id])\n",
        "  b_u[user_id] += gamma * (err_ui - lambda_ * b_i[item_id])\n",
        "  P[:, user_id] += gamma * (\n",
        "      err_ui * Q[:, item_id] - lambda_ * P[:, user_id]\n",
        "  )\n",
        "  Q[:, item_id] += gamma * (\n",
        "      err_ui * P[:, user_id] - lambda_ * Q[:, item_id]\n",
        "  )"
      ],
      "execution_count": null,
      "outputs": []
    },
    {
      "cell_type": "code",
      "metadata": {
        "id": "NsZ49wEd-L0g"
      },
      "source": [
        "#This function trains model for given number of iterations\n",
        "#lambda is normalization parameter it can be any non negative value\n",
        "#and gamma is value to be incremented or decremented in a step function\n",
        "def train(data, iterations, gamma, lambda_):\n",
        "  for iteration in range(iterations):\n",
        "      start, done = time.time(), 0\n",
        "      for i, idx in enumerate(np.random.permutation(len(data))):\n",
        "          step(*data[idx], gamma, lambda_)\n",
        "      print()\n",
        "      yield iteration + 1, time.time() - start"
      ],
      "execution_count": null,
      "outputs": []
    },
    {
      "cell_type": "code",
      "metadata": {
        "id": "Sg_z8jCl-LmO"
      },
      "source": [
        "num_items = items + 1\n",
        "num_users = users + 1\n",
        "num_factors = 25\n",
        "num_epochs = 40\n",
        "gamma = 0.01\n",
        "lambda_ = 0.1\n",
        "\n",
        "rmse_li = list()\n",
        "\n",
        "b_u = np.zeros((num_users,), dtype=np.float32)\n",
        "b_i = np.zeros((num_items,), dtype=np.float32)\n",
        "\n",
        "#P = np.random.normal(scale=0.1, size=(num_factors, num_users))\n",
        "#Q = np.random.normal(scale=0.1, size=(num_factors, num_items))\n",
        "\n",
        "Q = np.random.rand(num_factors, num_items)*np.sqrt(5/num_factors)\n",
        "P = np.random.rand(num_factors, num_users)*np.sqrt(5/num_factors)"
      ],
      "execution_count": null,
      "outputs": []
    },
    {
      "cell_type": "code",
      "metadata": {
        "id": "efQ5EL9c2fbi",
        "colab": {
          "base_uri": "https://localhost:8080/"
        },
        "outputId": "16b7b25f-ee8f-4fa1-97b2-b3678851fa02"
      },
      "source": [
        "train_ratings, test_ratings = np_train_ratings, np_test_ratings\n",
        "start = time.time()\n",
        "for i, epoch_time in train(train_ratings, num_epochs, gamma, lambda_):\n",
        "    rmse_train = error(train_ratings)\n",
        "    rmse_test = error(test_ratings)\n",
        "    print(f\"{i}.\" + \" RMSE_Train = {:.4f} ||\".format(rmse_train) + \" RMSE_Test = {:.4f}\".format(rmse_test))\n",
        "    rmse_li.append(rmse_test)\n",
        "print(\"\")\n",
        "print(\"Execution finished in: {:.0f}s\".format(time.time() - start))"
      ],
      "execution_count": null,
      "outputs": [
        {
          "output_type": "stream",
          "text": [
            "\n",
            "1. RMSE_Train = 0.9733 || RMSE_Test = 0.9864\n",
            "\n",
            "2. RMSE_Train = 0.9367 || RMSE_Test = 0.9535\n",
            "\n",
            "3. RMSE_Train = 0.9200 || RMSE_Test = 0.9421\n",
            "\n",
            "4. RMSE_Train = 0.9107 || RMSE_Test = 0.9312\n",
            "\n",
            "5. RMSE_Train = 0.9040 || RMSE_Test = 0.9245\n",
            "\n",
            "6. RMSE_Train = 0.8989 || RMSE_Test = 0.9201\n",
            "\n",
            "7. RMSE_Train = 0.8947 || RMSE_Test = 0.9182\n",
            "\n",
            "8. RMSE_Train = 0.8911 || RMSE_Test = 0.9162\n",
            "\n",
            "9. RMSE_Train = 0.8878 || RMSE_Test = 0.9153\n",
            "\n",
            "10. RMSE_Train = 0.8842 || RMSE_Test = 0.9126\n",
            "\n",
            "11. RMSE_Train = 0.8806 || RMSE_Test = 0.9126\n",
            "\n",
            "12. RMSE_Train = 0.8770 || RMSE_Test = 0.9091\n",
            "\n",
            "13. RMSE_Train = 0.8730 || RMSE_Test = 0.9080\n",
            "\n",
            "14. RMSE_Train = 0.8691 || RMSE_Test = 0.9065\n",
            "\n",
            "15. RMSE_Train = 0.8657 || RMSE_Test = 0.9049\n",
            "\n",
            "16. RMSE_Train = 0.8618 || RMSE_Test = 0.9057\n",
            "\n",
            "17. RMSE_Train = 0.8582 || RMSE_Test = 0.9036\n",
            "\n",
            "18. RMSE_Train = 0.8555 || RMSE_Test = 0.9030\n",
            "\n",
            "19. RMSE_Train = 0.8529 || RMSE_Test = 0.9041\n",
            "\n",
            "20. RMSE_Train = 0.8507 || RMSE_Test = 0.9056\n",
            "\n",
            "21. RMSE_Train = 0.8490 || RMSE_Test = 0.9060\n",
            "\n",
            "22. RMSE_Train = 0.8486 || RMSE_Test = 0.9088\n",
            "\n",
            "23. RMSE_Train = 0.8480 || RMSE_Test = 0.9126\n",
            "\n",
            "24. RMSE_Train = 0.8484 || RMSE_Test = 0.9163\n",
            "\n",
            "25. RMSE_Train = 0.8505 || RMSE_Test = 0.9215\n",
            "\n",
            "26. RMSE_Train = 0.8537 || RMSE_Test = 0.9298\n",
            "\n",
            "27. RMSE_Train = 0.8576 || RMSE_Test = 0.9373\n",
            "\n",
            "28. RMSE_Train = 0.8628 || RMSE_Test = 0.9470\n",
            "\n",
            "29. RMSE_Train = 0.8699 || RMSE_Test = 0.9546\n",
            "\n",
            "30. RMSE_Train = 0.8782 || RMSE_Test = 0.9744\n",
            "\n",
            "31. RMSE_Train = 0.8893 || RMSE_Test = 0.9915\n",
            "\n",
            "32. RMSE_Train = 0.9004 || RMSE_Test = 1.0095\n",
            "\n",
            "33. RMSE_Train = 0.9123 || RMSE_Test = 1.0345\n",
            "\n",
            "34. RMSE_Train = 0.9270 || RMSE_Test = 1.0648\n",
            "\n",
            "35. RMSE_Train = 0.9387 || RMSE_Test = 1.0894\n",
            "\n",
            "36. RMSE_Train = 0.9515 || RMSE_Test = 1.1244\n",
            "\n",
            "37. RMSE_Train = 0.9740 || RMSE_Test = 1.1659\n",
            "\n",
            "38. RMSE_Train = 0.9936 || RMSE_Test = 1.2161\n",
            "\n",
            "39. RMSE_Train = 1.0156 || RMSE_Test = 1.2711\n",
            "\n",
            "40. RMSE_Train = 1.0276 || RMSE_Test = 1.3245\n",
            "\n",
            "Execution finished in: 221s\n"
          ],
          "name": "stdout"
        }
      ]
    },
    {
      "cell_type": "code",
      "metadata": {
        "id": "04ubY150croP",
        "colab": {
          "base_uri": "https://localhost:8080/",
          "height": 513
        },
        "outputId": "2e5aaf61-0146-450d-8fe9-d3680d0b6632"
      },
      "source": [
        "#Plot\n",
        "li = list()\n",
        "temp = list()\n",
        "if len(rmse_li) > 20:\n",
        "  limit = 20\n",
        "else:\n",
        "  limit = len(rmse_li) \n",
        "for i in range(0,limit):\n",
        "  li.append(i)\n",
        "  temp.append(rmse_li[i])\n",
        "\n",
        "figure, axes = plt.subplots(1,1,figsize=(10,8))            # setting up the plot parameters\n",
        "\n",
        "axes.grid()\n",
        "axes.plot(li, temp, 'b*-',ms=18 , label='RMSE') # plot with euclidean distance\n",
        "axes.set_title('RMSE curve')\n",
        "axes.set_xlabel('Iterations')\n",
        "axes.set_ylabel('RMSE values')\n",
        "axes.legend()\n",
        "\n",
        "plt.show()\n",
        "rmse_li.clear()\n",
        "temp.clear()"
      ],
      "execution_count": null,
      "outputs": [
        {
          "output_type": "display_data",
          "data": {
            "image/png": "[encoded data removed]",
            "text/plain": [
              "<Figure size 720x576 with 1 Axes>"
            ]
          },
          "metadata": {
            "tags": [],
            "needs_background": "light"
          }
        }
      ]
    },
    {
      "cell_type": "markdown",
      "metadata": {
        "id": "dH3Hvp2JfA56"
      },
      "source": [
        "# Comparison of CF and LF:\n",
        "Collaborative filtering does not yield the best results because of the sparse utility matrix and with CF, its difficult to recommend or predict the rating of a movie which has not been rated before at all.\n",
        "\n",
        "Since in LF, we make an educated guess and take the similarity of items in account, it is possible to predict or recommend a movie which has not been rated before. SVD facilitates with latent factors which yields better results. \n",
        "\n",
        "Appropriate selection of the normalization factor is crucial for varying the complexity of the model. By changing the normalization factor we can precisely the ratings.\n",
        "\n",
        "LF performs better than CF because most of the entries in the utility matrix are usually missing and those won't be considered in collaborative filtering. On the other hand, LF assumes some arbitrary values at each and every entry in the matrix and model will be trained with the help of gradient descent so that all the entries will approach closer to the actual ratings."
      ]
    }
  ]
}